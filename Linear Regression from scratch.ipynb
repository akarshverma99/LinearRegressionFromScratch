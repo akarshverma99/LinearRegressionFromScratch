{
 "cells": [
  {
   "cell_type": "code",
   "execution_count": 5,
   "metadata": {},
   "outputs": [],
   "source": [
    "import pandas as pd\n",
    "import numpy as np\n",
    "import matplotlib.pyplot as plt\n",
    "import math"
   ]
  },
  {
   "cell_type": "markdown",
   "metadata": {},
   "source": [
    "Linear regression line can be fit as follows.\n",
    "1. calculate the mean of the data : sum of data points / number of data points\n",
    "2. y = mx + c passes through mean.\n",
    "3. value of m is given by : r*(sample std dev y/sample std dev x), where r is correlation coefficient.\n",
    "4. substitute r, m, x and y to get c."
   ]
  },
  {
   "cell_type": "code",
   "execution_count": 6,
   "metadata": {},
   "outputs": [],
   "source": [
    "#means\n",
    "def mean(values):\n",
    "    return sum(values)/float(len(values))"
   ]
  },
  {
   "cell_type": "code",
   "execution_count": 7,
   "metadata": {},
   "outputs": [],
   "source": [
    "# sdev - standard deviation\n",
    "def sdev(values):\n",
    "    m = mean(values)\n",
    "    s = 0.0\n",
    "    for i in values:\n",
    "        s = s + (i-m)**2\n",
    "    s = s/len(values)\n",
    "    s = math.sqrt(s)\n",
    "    return s"
   ]
  },
  {
   "cell_type": "code",
   "execution_count": 8,
   "metadata": {},
   "outputs": [],
   "source": [
    "# r - correlation coeficient ; m = r*(sdevY/sdevX); c\n",
    "def coeff(X, Y):\n",
    "    #X = [row[0] for row in dataset]\n",
    "    #Y = [row[1] for row in dataset]\n",
    "    sdevX = sdev(X)\n",
    "    sdevY = sdev(Y)\n",
    "    meanX = mean(X)\n",
    "    meanY = mean(Y)\n",
    "    r = 0.0\n",
    "    for i in range(0, len(X)):\n",
    "        #print('X value', X[i])\n",
    "        r = r + ((X[i]-meanX)/float(sdevX))*((Y[i]-meanY)/float(sdevY))\n",
    "    r = r/(len(X)-1)\n",
    "    #print('r = ', r)\n",
    "    return [r*(sdevY/sdevX), (meanY - r*(sdevY/sdevX)*meanX)]"
   ]
  },
  {
   "cell_type": "code",
   "execution_count": 109,
   "metadata": {},
   "outputs": [],
   "source": [
    "class linear_regression:\n",
    "    #def __init__(self):\n",
    "    #   self.m = 0.0\n",
    "    #   self.c = 0.0\n",
    "    #   self.predictions = []\n",
    "    m=0.0\n",
    "    c=0.0\n",
    "    predictions = []\n",
    "    def fit(self, X_train, y_train):\n",
    "        m, c = coeff(X_train, y_train)\n",
    "        self.m, self.c = m, c\n",
    "        return m, c\n",
    "    def predict(self, X_test):\n",
    "        self.predictions = []\n",
    "        for row in X_test:\n",
    "            yhat = self.m*row + self.c\n",
    "            self.predictions.append(yhat)\n",
    "        send = self.predictions\n",
    "        self.predictions = []\n",
    "        return send\n",
    "    "
   ]
  },
  {
   "cell_type": "code",
   "execution_count": 194,
   "metadata": {},
   "outputs": [],
   "source": [
    "#Creating regression friendly dummy data\n",
    "from sklearn.datasets import make_regression\n",
    "X, y = make_regression(n_features = 1, n_samples = 1000, noise = 15, bias = 0.2)\n",
    "plt.scatter(X, y)\n",
    "plt.show()"
   ]
  },
  {
   "cell_type": "code",
   "execution_count": 196,
   "metadata": {},
   "outputs": [],
   "source": [
    "from sklearn.model_selection import train_test_split\n",
    "X_train, X_test, y_train, y_test = train_test_split(X, y, test_size = 0.2, random_state = 42) \n",
    "lr = linear_regression()\n",
    "lr.fit(X_train, y_train)\n",
    "predictions = lr.predict(X_test)"
   ]
  },
  {
   "cell_type": "code",
   "execution_count": 198,
   "metadata": {},
   "outputs": [
    {
     "data": {
      "image/png": "[encoded data removed]",
      "text/plain": [
       "<Figure size 432x288 with 1 Axes>"
      ]
     },
     "metadata": {
      "needs_background": "light"
     },
     "output_type": "display_data"
    }
   ],
   "source": [
    "plt.scatter(X_test, y_test)\n",
    "plt.scatter(X_test, predictions)\n",
    "plt.show()"
   ]
  }
 ],
 "metadata": {
  "kernelspec": {
   "display_name": "Python 3",
   "language": "python",
   "name": "python3"
  },
  "language_info": {
   "codemirror_mode": {
    "name": "ipython",
    "version": 3
   },
   "file_extension": ".py",
   "mimetype": "text/x-python",
   "name": "python",
   "nbconvert_exporter": "python",
   "pygments_lexer": "ipython3",
   "version": "3.7.6"
  }
 },
 "nbformat": 4,
 "nbformat_minor": 4
}
